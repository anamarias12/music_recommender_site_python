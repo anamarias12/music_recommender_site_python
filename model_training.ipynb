{
 "cells": [
  {
   "cell_type": "code",
   "execution_count": 4,
   "id": "561d0797-25c2-4c60-90bb-bba8a9ee1530",
   "metadata": {},
   "outputs": [],
   "source": [
    "import pandas as pd"
   ]
  },
  {
   "cell_type": "code",
   "execution_count": 5,
   "id": "dc9c2b98-4613-4f9f-8ec2-4347ccc4a39c",
   "metadata": {},
   "outputs": [],
   "source": [
    "data = pd.read_csv(\"spotify_millsongdata.csv\")"
   ]
  },
  {
   "cell_type": "code",
   "execution_count": 6,
   "id": "e687714e-c70e-4916-a8fe-965ab5399b0b",
   "metadata": {},
   "outputs": [],
   "source": [
    "data = data.sample(5000).drop('link', axis=1).reset_index(drop=True)"
   ]
  },
  {
   "cell_type": "markdown",
   "id": "54835008-0677-427a-9e0b-d3fb5f228920",
   "metadata": {},
   "source": [
    "Test Cleaning"
   ]
  },
  {
   "cell_type": "code",
   "execution_count": 7,
   "id": "1df61dde-0868-47ec-a16d-4bdc5287c724",
   "metadata": {},
   "outputs": [],
   "source": [
    "data['text'] = data['text'].str.lower().replace(r'^\\w\\s','').replace(r'\\n',' ', regex = True)"
   ]
  },
  {
   "cell_type": "code",
   "execution_count": 8,
   "id": "bd8f9b03-a565-4986-9710-058c0912500c",
   "metadata": {},
   "outputs": [
    {
     "data": {
      "text/html": [
       "<div>\n",
       "<style scoped>\n",
       "    .dataframe tbody tr th:only-of-type {\n",
       "        vertical-align: middle;\n",
       "    }\n",
       "\n",
       "    .dataframe tbody tr th {\n",
       "        vertical-align: top;\n",
       "    }\n",
       "\n",
       "    .dataframe thead th {\n",
       "        text-align: right;\n",
       "    }\n",
       "</style>\n",
       "<table border=\"1\" class=\"dataframe\">\n",
       "  <thead>\n",
       "    <tr style=\"text-align: right;\">\n",
       "      <th></th>\n",
       "      <th>artist</th>\n",
       "      <th>song</th>\n",
       "      <th>text</th>\n",
       "    </tr>\n",
       "  </thead>\n",
       "  <tbody>\n",
       "    <tr>\n",
       "      <th>0</th>\n",
       "      <td>Harry Belafonte</td>\n",
       "      <td>When The Saint Go Marching In</td>\n",
       "      <td>oh, when the saints, go marching in,  \\r yes w...</td>\n",
       "    </tr>\n",
       "    <tr>\n",
       "      <th>1</th>\n",
       "      <td>John Denver</td>\n",
       "      <td>Ponies</td>\n",
       "      <td>somewhere out on the prairie  \\r is the greate...</td>\n",
       "    </tr>\n",
       "    <tr>\n",
       "      <th>2</th>\n",
       "      <td>Nazareth</td>\n",
       "      <td>Sweet Little Rock And Roller</td>\n",
       "      <td>by: chuck berry as done by nazareth  \\r ninete...</td>\n",
       "    </tr>\n",
       "    <tr>\n",
       "      <th>3</th>\n",
       "      <td>Wilson Phillips</td>\n",
       "      <td>Impulsive</td>\n",
       "      <td>the secret of love, i thought i understood  \\r...</td>\n",
       "    </tr>\n",
       "    <tr>\n",
       "      <th>4</th>\n",
       "      <td>Billy Joel</td>\n",
       "      <td>You Can Make Me Free</td>\n",
       "      <td>you can make me free  \\r you can make me smile...</td>\n",
       "    </tr>\n",
       "    <tr>\n",
       "      <th>...</th>\n",
       "      <td>...</td>\n",
       "      <td>...</td>\n",
       "      <td>...</td>\n",
       "    </tr>\n",
       "    <tr>\n",
       "      <th>4995</th>\n",
       "      <td>Overkill</td>\n",
       "      <td>The Years Of Decay</td>\n",
       "      <td>out on this road takes its toll  \\r and you pa...</td>\n",
       "    </tr>\n",
       "    <tr>\n",
       "      <th>4996</th>\n",
       "      <td>Hank Snow</td>\n",
       "      <td>Gentle On My Mind</td>\n",
       "      <td>it's knowing that your door is always open and...</td>\n",
       "    </tr>\n",
       "    <tr>\n",
       "      <th>4997</th>\n",
       "      <td>Drake</td>\n",
       "      <td>Take Care</td>\n",
       "      <td>know you've been hurt by someone else  \\r i ca...</td>\n",
       "    </tr>\n",
       "    <tr>\n",
       "      <th>4998</th>\n",
       "      <td>U2</td>\n",
       "      <td>Springhill Mining Disaster</td>\n",
       "      <td>in the town of springhill, nova scotia  \\r dow...</td>\n",
       "    </tr>\n",
       "    <tr>\n",
       "      <th>4999</th>\n",
       "      <td>Widespread Panic</td>\n",
       "      <td>Blight</td>\n",
       "      <td>we sat on the couch a playin'  \\r touch the to...</td>\n",
       "    </tr>\n",
       "  </tbody>\n",
       "</table>\n",
       "<p>5000 rows × 3 columns</p>\n",
       "</div>"
      ],
      "text/plain": [
       "                artist                           song  \\\n",
       "0      Harry Belafonte  When The Saint Go Marching In   \n",
       "1          John Denver                         Ponies   \n",
       "2             Nazareth   Sweet Little Rock And Roller   \n",
       "3      Wilson Phillips                      Impulsive   \n",
       "4           Billy Joel           You Can Make Me Free   \n",
       "...                ...                            ...   \n",
       "4995          Overkill             The Years Of Decay   \n",
       "4996         Hank Snow              Gentle On My Mind   \n",
       "4997             Drake                      Take Care   \n",
       "4998                U2     Springhill Mining Disaster   \n",
       "4999  Widespread Panic                         Blight   \n",
       "\n",
       "                                                   text  \n",
       "0     oh, when the saints, go marching in,  \\r yes w...  \n",
       "1     somewhere out on the prairie  \\r is the greate...  \n",
       "2     by: chuck berry as done by nazareth  \\r ninete...  \n",
       "3     the secret of love, i thought i understood  \\r...  \n",
       "4     you can make me free  \\r you can make me smile...  \n",
       "...                                                 ...  \n",
       "4995  out on this road takes its toll  \\r and you pa...  \n",
       "4996  it's knowing that your door is always open and...  \n",
       "4997  know you've been hurt by someone else  \\r i ca...  \n",
       "4998  in the town of springhill, nova scotia  \\r dow...  \n",
       "4999  we sat on the couch a playin'  \\r touch the to...  \n",
       "\n",
       "[5000 rows x 3 columns]"
      ]
     },
     "execution_count": 8,
     "metadata": {},
     "output_type": "execute_result"
    }
   ],
   "source": [
    "data"
   ]
  },
  {
   "cell_type": "code",
   "execution_count": 9,
   "id": "fc1604a2-5adb-4e1d-aedc-6f367809ec7a",
   "metadata": {},
   "outputs": [
    {
     "data": {
      "text/plain": [
       "0       oh, when the saints, go marching in,  \\r yes w...\n",
       "1       somewhere out on the prairie  \\r is the greate...\n",
       "2       by: chuck berry as done by nazareth  \\r ninete...\n",
       "3       the secret of love, i thought i understood  \\r...\n",
       "4       you can make me free  \\r you can make me smile...\n",
       "                              ...                        \n",
       "4995    out on this road takes its toll  \\r and you pa...\n",
       "4996    it's knowing that your door is always open and...\n",
       "4997    know you've been hurt by someone else  \\r i ca...\n",
       "4998    in the town of springhill, nova scotia  \\r dow...\n",
       "4999    we sat on the couch a playin'  \\r touch the to...\n",
       "Name: text, Length: 5000, dtype: object"
      ]
     },
     "execution_count": 9,
     "metadata": {},
     "output_type": "execute_result"
    }
   ],
   "source": [
    "data['text']"
   ]
  },
  {
   "cell_type": "code",
   "execution_count": 10,
   "id": "3587cb64-718f-4241-9f58-9d8c3962edf8",
   "metadata": {},
   "outputs": [],
   "source": [
    "import nltk\n",
    "from nltk.stem.porter import PorterStemmer"
   ]
  },
  {
   "cell_type": "code",
   "execution_count": 11,
   "id": "53b12067-d131-4503-97f7-b8c84d4261dc",
   "metadata": {},
   "outputs": [],
   "source": [
    "stemmer = PorterStemmer()"
   ]
  },
  {
   "cell_type": "code",
   "execution_count": 12,
   "id": "4b0b66de-0aee-4f5b-869e-df137d16989c",
   "metadata": {},
   "outputs": [],
   "source": [
    "def token(txt):\n",
    "    tokens = nltk.word_tokenize(txt)\n",
    "    a = [stemmer.stem(w) for w in tokens]\n",
    "    return \" \".join(a)"
   ]
  },
  {
   "cell_type": "code",
   "execution_count": 13,
   "id": "74cb969e-b453-46ae-a0c0-1217e70c3bad",
   "metadata": {},
   "outputs": [
    {
     "data": {
      "text/plain": [
       "0       oh , when the saint , go march in , ye when th...\n",
       "1       somewher out on the prairi is the greatest cow...\n",
       "2       by : chuck berri as done by nazareth nineteeen...\n",
       "3       the secret of love , i thought i understood th...\n",
       "4       you can make me free you can make me smile you...\n",
       "                              ...                        \n",
       "4995    out on thi road take it toll and you pay for e...\n",
       "4996    it 's know that your door is alway open and yo...\n",
       "4997    know you 've been hurt by someon els i can tel...\n",
       "4998    in the town of springhil , nova scotia down in...\n",
       "4999    we sat on the couch a playin ' touch the tongu...\n",
       "Name: text, Length: 5000, dtype: object"
      ]
     },
     "execution_count": 13,
     "metadata": {},
     "output_type": "execute_result"
    }
   ],
   "source": [
    "data['text'].apply(lambda x : token(x))"
   ]
  },
  {
   "cell_type": "markdown",
   "id": "d6bfdab9-700c-4699-82f1-668ab5b641b2",
   "metadata": {},
   "source": [
    "Reduced multiple similar words into one"
   ]
  },
  {
   "cell_type": "code",
   "execution_count": 14,
   "id": "d3b25105-4f13-430b-83f3-e09307c5a29a",
   "metadata": {},
   "outputs": [],
   "source": [
    "from sklearn.feature_extraction.text import TfidfVectorizer\n",
    "from sklearn.metrics.pairwise import cosine_similarity"
   ]
  },
  {
   "cell_type": "code",
   "execution_count": 15,
   "id": "b990d0a7-387d-46b5-b97a-f395b2609a8e",
   "metadata": {},
   "outputs": [],
   "source": [
    "tfid = TfidfVectorizer(analyzer='word', stop_words='english')"
   ]
  },
  {
   "cell_type": "code",
   "execution_count": 16,
   "id": "0ac90e9a-2bd2-498c-9a47-19a389dcafcf",
   "metadata": {},
   "outputs": [],
   "source": [
    "sparse_matrix = tfid.fit_transform(data['text'])"
   ]
  },
  {
   "cell_type": "code",
   "execution_count": 17,
   "id": "d2c5fbf0-84a7-4995-a67b-b6bb900cbf1b",
   "metadata": {},
   "outputs": [],
   "source": [
    "similarity = cosine_similarity(sparse_matrix)"
   ]
  },
  {
   "cell_type": "markdown",
   "id": "e18f7bd8-c2b8-45c3-bdd6-19b530fdc5c0",
   "metadata": {},
   "source": [
    "Recommender Function"
   ]
  },
  {
   "cell_type": "code",
   "execution_count": 18,
   "id": "ad6c66de-f31d-4f9f-9742-e0e54f4d3728",
   "metadata": {},
   "outputs": [],
   "source": [
    "def recommender(song_name):\n",
    "    index = data[data['song'] == song_name].index[0]\n",
    "    distance = sorted(list(enumerate(similarity[index])), reverse = True, key = lambda x:x[1])\n",
    "    song = []\n",
    "    for s_id in distance[1:5]:\n",
    "        song.append(data.iloc[s_id[0]].song)\n",
    "    return song"
   ]
  },
  {
   "cell_type": "code",
   "execution_count": 19,
   "id": "b746e085-0c9b-47c8-9b0b-bf3e4d2e134a",
   "metadata": {},
   "outputs": [],
   "source": [
    "import pickle"
   ]
  },
  {
   "cell_type": "code",
   "execution_count": 20,
   "id": "407b29d8-7581-4f58-99fe-bd658626c627",
   "metadata": {},
   "outputs": [],
   "source": [
    "pickle.dump(similarity, open(\"similarity\", \"wb\"))"
   ]
  },
  {
   "cell_type": "code",
   "execution_count": 21,
   "id": "79414fed-d46e-4e66-8021-79348c645129",
   "metadata": {},
   "outputs": [],
   "source": [
    "pickle.dump(data, open(\"data\", \"wb\"))"
   ]
  }
 ],
 "metadata": {
  "kernelspec": {
   "display_name": "Python 3 (ipykernel)",
   "language": "python",
   "name": "python3"
  }
 },
 "nbformat": 4,
 "nbformat_minor": 5
}
