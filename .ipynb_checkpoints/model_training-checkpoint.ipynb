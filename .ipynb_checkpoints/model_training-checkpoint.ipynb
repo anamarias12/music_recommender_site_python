{
 "cells": [
  {
   "cell_type": "code",
   "execution_count": null,
   "id": "561d0797-25c2-4c60-90bb-bba8a9ee1530",
   "metadata": {},
   "outputs": [],
   "source": [
    "import pandas as pd"
   ]
  },
  {
   "cell_type": "code",
   "execution_count": null,
   "id": "dc9c2b98-4613-4f9f-8ec2-4347ccc4a39c",
   "metadata": {},
   "outputs": [],
   "source": [
    "data = pd.read_csv(\"spotify_millsongdata.csv\")"
   ]
  },
  {
   "cell_type": "code",
   "execution_count": null,
   "id": "e687714e-c70e-4916-a8fe-965ab5399b0b",
   "metadata": {},
   "outputs": [],
   "source": [
    "data = data.sample(5000).drop('link', axis=1).reset_index(drop=True)"
   ]
  },
  {
   "cell_type": "markdown",
   "id": "54835008-0677-427a-9e0b-d3fb5f228920",
   "metadata": {},
   "source": [
    "Test Cleaning"
   ]
  },
  {
   "cell_type": "code",
   "execution_count": null,
   "id": "1df61dde-0868-47ec-a16d-4bdc5287c724",
   "metadata": {},
   "outputs": [],
   "source": [
    "data['text'] = data['text'].str.lower().replace(r'^\\w\\s','').replace(r'\\n',' ', regex = True)"
   ]
  },
  {
   "cell_type": "code",
   "execution_count": null,
   "id": "bd8f9b03-a565-4986-9710-058c0912500c",
   "metadata": {},
   "outputs": [],
   "source": [
    "data"
   ]
  },
  {
   "cell_type": "code",
   "execution_count": null,
   "id": "fc1604a2-5adb-4e1d-aedc-6f367809ec7a",
   "metadata": {},
   "outputs": [],
   "source": [
    "data['text']"
   ]
  },
  {
   "cell_type": "code",
   "execution_count": null,
   "id": "3587cb64-718f-4241-9f58-9d8c3962edf8",
   "metadata": {},
   "outputs": [],
   "source": [
    "import nltk\n",
    "from nltk.stem.porter import PorterStemmer"
   ]
  },
  {
   "cell_type": "code",
   "execution_count": null,
   "id": "53b12067-d131-4503-97f7-b8c84d4261dc",
   "metadata": {},
   "outputs": [],
   "source": [
    "stemmer = PorterStemmer()"
   ]
  },
  {
   "cell_type": "code",
   "execution_count": null,
   "id": "4b0b66de-0aee-4f5b-869e-df137d16989c",
   "metadata": {},
   "outputs": [],
   "source": [
    "def token(txt):\n",
    "    tokens = nltk.word_tokenize(txt)\n",
    "    a = [stemmer.stem(w) for w in tokens]\n",
    "    return \" \".join(a)"
   ]
  },
  {
   "cell_type": "code",
   "execution_count": null,
   "id": "74cb969e-b453-46ae-a0c0-1217e70c3bad",
   "metadata": {},
   "outputs": [],
   "source": [
    "data['text'].apply(lambda x : token(x))"
   ]
  },
  {
   "cell_type": "markdown",
   "id": "d6bfdab9-700c-4699-82f1-668ab5b641b2",
   "metadata": {},
   "source": [
    "Reduced multiple similar words into one"
   ]
  },
  {
   "cell_type": "code",
   "execution_count": null,
   "id": "d3b25105-4f13-430b-83f3-e09307c5a29a",
   "metadata": {},
   "outputs": [],
   "source": [
    "from sklearn.feature_extraction.text import TfidfVectorizer\n",
    "from sklearn.metrics.pairwise import cosine_similarity"
   ]
  },
  {
   "cell_type": "code",
   "execution_count": null,
   "id": "b990d0a7-387d-46b5-b97a-f395b2609a8e",
   "metadata": {},
   "outputs": [],
   "source": [
    "tfid = TfidfVectorizer(analyzer='word', stop_words='english')"
   ]
  },
  {
   "cell_type": "code",
   "execution_count": null,
   "id": "0ac90e9a-2bd2-498c-9a47-19a389dcafcf",
   "metadata": {},
   "outputs": [],
   "source": [
    "sparse_matrix = tfid.fit_transform(data['text'])"
   ]
  },
  {
   "cell_type": "code",
   "execution_count": null,
   "id": "d2c5fbf0-84a7-4995-a67b-b6bb900cbf1b",
   "metadata": {},
   "outputs": [],
   "source": [
    "similarity = cosine_similarity(sparse_matrix)"
   ]
  },
  {
   "cell_type": "markdown",
   "id": "e18f7bd8-c2b8-45c3-bdd6-19b530fdc5c0",
   "metadata": {},
   "source": [
    "Recommender Function"
   ]
  },
  {
   "cell_type": "code",
   "execution_count": 17,
   "id": "ad6c66de-f31d-4f9f-9742-e0e54f4d3728",
   "metadata": {},
   "outputs": [],
   "source": [
    "def recommender(song_name):\n",
    "    index = data[data['song'] == song_name].index[0]\n",
    "    distance = sorted(list(enumerate(similarity[index])), reverse = True, key = lambda x:x[1])\n",
    "    song = []\n",
    "    for s_id in distance[1:5]:\n",
    "        song.append(data.iloc[s_id[0]].song)\n",
    "    return song"
   ]
  },
  {
   "cell_type": "code",
   "execution_count": 18,
   "id": "b746e085-0c9b-47c8-9b0b-bf3e4d2e134a",
   "metadata": {},
   "outputs": [],
   "source": [
    "import pickle"
   ]
  },
  {
   "cell_type": "code",
   "execution_count": 19,
   "id": "407b29d8-7581-4f58-99fe-bd658626c627",
   "metadata": {},
   "outputs": [],
   "source": [
    "pickle.dump(similarity, open(\"similarity\", \"wb\"))"
   ]
  },
  {
   "cell_type": "code",
   "execution_count": 23,
   "id": "79414fed-d46e-4e66-8021-79348c645129",
   "metadata": {},
   "outputs": [],
   "source": [
    "pickle.dump(data, open(\"data\", \"wb\"))"
   ]
  }
 ],
 "metadata": {
  "kernelspec": {
   "display_name": "Python 3 (ipykernel)",
   "language": "python",
   "name": "python3"
  },
  "language_info": {
   "codemirror_mode": {
    "name": "ipython",
    "version": 3
   },
   "file_extension": ".py",
   "mimetype": "text/x-python",
   "name": "python",
   "nbconvert_exporter": "python",
   "pygments_lexer": "ipython3",
   "version": "3.10.12"
  }
 },
 "nbformat": 4,
 "nbformat_minor": 5
}
